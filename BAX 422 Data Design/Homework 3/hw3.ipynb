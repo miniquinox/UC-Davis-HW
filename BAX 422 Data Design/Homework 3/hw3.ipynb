{
 "cells": [
  {
   "cell_type": "markdown",
   "metadata": {},
   "source": [
    "**Question 1:**\n",
    "- Go to the website http://quotes.toscrape.com/"
   ]
  },
  {
   "cell_type": "code",
   "execution_count": 28,
   "metadata": {},
   "outputs": [],
   "source": [
    "from bs4 import BeautifulSoup\n",
    "import requests\n",
    "import time\n",
    "import re\n",
    "\n",
    "url = 'http://quotes.toscrape.com'\n",
    "response = requests.get(url)\n",
    "soup = BeautifulSoup(response.text, 'html.parser')"
   ]
  },
  {
   "cell_type": "markdown",
   "metadata": {},
   "source": [
    "**Question 2:**\n",
    "- What type of selection method would you use to select the _fourth_ \"Top Ten tag\"?\n",
    "\n",
    "- Answer: Use find_all() to find all elements with class \"tag-item\" and get the [3] element"
   ]
  },
  {
   "cell_type": "markdown",
   "metadata": {},
   "source": [
    "**Question 3:**\n",
    "- Write Python code to load the page and select the fourth \"Top Ten tag\".  Extract the link's href to screen."
   ]
  },
  {
   "cell_type": "code",
   "execution_count": 29,
   "metadata": {},
   "outputs": [
    {
     "name": "stdout",
     "output_type": "stream",
     "text": [
      "/tag/humor/\n"
     ]
    }
   ],
   "source": [
    "tags = soup.find_all(class_=\"tag-item\")\n",
    "fourth_tag = tags[3].find('a').get('href')\n",
    "print(fourth_tag)"
   ]
  },
  {
   "cell_type": "markdown",
   "metadata": {},
   "source": [
    "**Question 4:**\n",
    "\n",
    "- The URL you print in (3) is incomplete.  It is called a relative path (as opposed to a full path).  You will need to add the domain name (\"http://quotes.toscrape.com/\") to the front of it to make it a complete URL."
   ]
  },
  {
   "cell_type": "code",
   "execution_count": 30,
   "metadata": {},
   "outputs": [
    {
     "name": "stdout",
     "output_type": "stream",
     "text": [
      "http://quotes.toscrape.com/tag/humor/\n"
     ]
    }
   ],
   "source": [
    "new_url = 'http://quotes.toscrape.com' + fourth_tag\n",
    "print(new_url)"
   ]
  },
  {
   "cell_type": "markdown",
   "metadata": {},
   "source": [
    "**Question 5:**\n",
    "\n",
    "- Add to your code in (3) and make it follow the full URL obtained in (4). Add a delay (time.sleep) of 10 seconds before executing this second page request."
   ]
  },
  {
   "cell_type": "code",
   "execution_count": 31,
   "metadata": {},
   "outputs": [],
   "source": [
    "time.sleep(10)\n",
    "response = requests.get(new_url)"
   ]
  },
  {
   "cell_type": "markdown",
   "metadata": {},
   "source": [
    "**Question 6:**\n",
    "\n",
    "- What selection method would you use to select all quotes (including their author) in the resulting page?\n",
    "\n",
    "- Answer: Find all elements with class \"quote\" and within each element, select its \"text\" and \"author\" subelements"
   ]
  },
  {
   "cell_type": "markdown",
   "metadata": {},
   "source": [
    "**Question 7:**\n",
    "\n",
    "- Modify your code in (5) and select all quotes (including their author)"
   ]
  },
  {
   "cell_type": "code",
   "execution_count": 32,
   "metadata": {},
   "outputs": [
    {
     "name": "stdout",
     "output_type": "stream",
     "text": [
      "“The person, be it gentleman or lady, who has not pleasure in a good novel, must be intolerably stupid.”\n",
      "Jane Austen \n",
      "\n",
      "“A day without sunshine is like, you know, night.”\n",
      "Steve Martin \n",
      "\n",
      "“Anyone who thinks sitting in church can make you a Christian must also think that sitting in a garage can make you a car.”\n",
      "Garrison Keillor \n",
      "\n",
      "“Beauty is in the eye of the beholder and it may be necessary from time to time to give a stupid or misinformed beholder a black eye.”\n",
      "Jim Henson \n",
      "\n",
      "“All you need is love. But a little chocolate now and then doesn't hurt.”\n",
      "Charles M. Schulz \n",
      "\n",
      "“Remember, we're madly in love, so it's all right to kiss me anytime you feel like it.”\n",
      "Suzanne Collins \n",
      "\n",
      "“Some people never go crazy. What truly horrible lives they must lead.”\n",
      "Charles Bukowski \n",
      "\n",
      "“The trouble with having an open mind, of course, is that people will insist on coming along and trying to put things in it.”\n",
      "Terry Pratchett \n",
      "\n",
      "“Think left and think right and think low and think high. Oh, the thinks you can think up if only you try!”\n",
      "Dr. Seuss \n",
      "\n",
      "“The reason I talk to myself is because I’m the only one whose answers I accept.”\n",
      "George Carlin \n",
      "\n"
     ]
    }
   ],
   "source": [
    "soup = BeautifulSoup(response.text, 'html.parser')\n",
    "\n",
    "quotes = soup.find_all(class_=\"quote\")\n",
    "\n",
    "for quote in quotes:\n",
    "    print(quote.find(class_=\"text\").get_text())\n",
    "    print(quote.find(class_=\"author\").get_text(), \"\\n\")"
   ]
  },
  {
   "cell_type": "markdown",
   "metadata": {},
   "source": [
    "**Question 8:**\n",
    "\n",
    "- Modify your code in (5) and select all quotes (including their author)"
   ]
  },
  {
   "cell_type": "code",
   "execution_count": 33,
   "metadata": {},
   "outputs": [
    {
     "name": "stdout",
     "output_type": "stream",
     "text": [
      "Jane Austen: “The person, be it gentleman or lady, who has not pleasure in a good novel, must be intolerably stupid.”\n",
      "\n",
      "Steve Martin: “A day without sunshine is like, you know, night.”\n",
      "\n",
      "Garrison Keillor: “Anyone who thinks sitting in church can make you a Christian must also think that sitting in a garage can make you a car.”\n",
      "\n",
      "Jim Henson: “Beauty is in the eye of the beholder and it may be necessary from time to time to give a stupid or misinformed beholder a black eye.”\n",
      "\n",
      "Charles M. Schulz: “All you need is love. But a little chocolate now and then doesn't hurt.”\n",
      "\n",
      "Suzanne Collins: “Remember, we're madly in love, so it's all right to kiss me anytime you feel like it.”\n",
      "\n",
      "Charles Bukowski: “Some people never go crazy. What truly horrible lives they must lead.”\n",
      "\n",
      "Terry Pratchett: “The trouble with having an open mind, of course, is that people will insist on coming along and trying to put things in it.”\n",
      "\n",
      "Dr. Seuss: “Think left and think right and think low and think high. Oh, the thinks you can think up if only you try!”\n",
      "\n",
      "George Carlin: “The reason I talk to myself is because I’m the only one whose answers I accept.”\n",
      "\n"
     ]
    }
   ],
   "source": [
    "for quote in quotes:\n",
    "    quote_text = quote.find(class_=\"text\").get_text()\n",
    "    author_name = quote.find(class_=\"author\").get_text()\n",
    "    # Format the output as \"Author: Quote\"\n",
    "    print(f\"{author_name}: {quote_text}\\n\")"
   ]
  },
  {
   "cell_type": "markdown",
   "metadata": {},
   "source": [
    "**Question 9:**\n",
    "\n",
    "- What selection method would you use to select the \"Next →\" link at the bottom of the page?\n",
    "\n",
    "- Answer: Find element with class \"next\", then find its < a >, and get the href inside it."
   ]
  },
  {
   "cell_type": "markdown",
   "metadata": {},
   "source": [
    "**Question 10:**\n",
    "\n",
    "- Modify your code in (8) to select \"Next →\", extract it's linked URL, and follow the full URL.  Add a delay (time.sleep) of 10 seconds before executing this third page request."
   ]
  },
  {
   "cell_type": "code",
   "execution_count": 34,
   "metadata": {},
   "outputs": [],
   "source": [
    "next_partial_url = soup.find(class_=\"next\").find('a').get('href')\n",
    "next_full_url = 'http://quotes.toscrape.com' + next_partial_url\n",
    "time.sleep(10)\n",
    "response = requests.get(next_full_url)"
   ]
  },
  {
   "cell_type": "markdown",
   "metadata": {},
   "source": [
    "**Question 11:**\n",
    "\n",
    "- Print all quotes of the resulting page similar to (8)."
   ]
  },
  {
   "cell_type": "code",
   "execution_count": 35,
   "metadata": {},
   "outputs": [
    {
     "name": "stdout",
     "output_type": "stream",
     "text": [
      "W.C. Fields: “I am free of all prejudice. I hate everyone equally. ”\n",
      "\n",
      "Jane Austen: “A lady's imagination is very rapid; it jumps from admiration to love, from love to matrimony in a moment.”\n",
      "\n"
     ]
    }
   ],
   "source": [
    "soup = BeautifulSoup(response.text, 'html.parser')\n",
    "\n",
    "quotes = soup.find_all(class_=\"quote\")\n",
    "for quote in quotes:\n",
    "    quote_text = quote.find(class_=\"text\").get_text()\n",
    "    author_name = quote.find(class_=\"author\").get_text()\n",
    "    # Format the output as \"Author: Quote\"\n",
    "    print(f\"{author_name}: {quote_text}\\n\")"
   ]
  }
 ],
 "metadata": {
  "kernelspec": {
   "display_name": "Python 3",
   "language": "python",
   "name": "python3"
  },
  "language_info": {
   "codemirror_mode": {
    "name": "ipython",
    "version": 3
   },
   "file_extension": ".py",
   "mimetype": "text/x-python",
   "name": "python",
   "nbconvert_exporter": "python",
   "pygments_lexer": "ipython3",
   "version": "3.11.6"
  }
 },
 "nbformat": 4,
 "nbformat_minor": 2
}
