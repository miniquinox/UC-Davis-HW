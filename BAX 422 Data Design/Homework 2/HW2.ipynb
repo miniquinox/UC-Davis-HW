{
 "cells": [
  {
   "cell_type": "markdown",
   "metadata": {},
   "source": [
    "1) Modify the code we created in class to select and print to screen the content of the blue \"Your Community\" section on https://gsm.ucdavis.edu/master-science-business-analytics-msba Use RegEx to make the text output look pretty."
   ]
  },
  {
   "cell_type": "code",
   "execution_count": 70,
   "metadata": {},
   "outputs": [
    {
     "name": "stdout",
     "output_type": "stream",
     "text": [
      "Your Community, Class of 2023-24, 94, Number of Incoming Students, 2, Average Years of Work Experience, 24, Average Age, 166, Average GRE Quant, Score, 3.5, Average Undergraduate GPA\n"
     ]
    }
   ],
   "source": [
    "from bs4 import BeautifulSoup\n",
    "import requests\n",
    "import re\n",
    "\n",
    "# Fetching the webpage content\n",
    "page_url = 'https://gsm.ucdavis.edu/master-science-business-analytics-msba'\n",
    "response = requests.get(page_url)\n",
    "page_content = response.content\n",
    "\n",
    "# Parsing the HTML content\n",
    "soup = BeautifulSoup(page_content, 'html.parser')\n",
    "\n",
    "# Extracting the community text\n",
    "community_text = soup.find('div', {'class': 'py-3 solid-blue-bkg text-white'}).get_text(strip=False)\n",
    "\n",
    "# Cleaning the community text using regex\n",
    "cleaned_community_text = re.sub(r'\\n+|\\xa0| {2,}', ', ', community_text).strip(', ')\n",
    "\n",
    "print(cleaned_community_text)\n"
   ]
  },
  {
   "cell_type": "markdown",
   "metadata": {},
   "source": [
    "2) Write code that web scrapes the Amazon page https://www.amazon.com/dp/B07CT6DYFG and prints its title and price to screen.\n",
    "\n"
   ]
  },
  {
   "cell_type": "code",
   "execution_count": 71,
   "metadata": {},
   "outputs": [
    {
     "name": "stdout",
     "output_type": "stream",
     "text": [
      "Title: Katamco The Original Toilet Timer (Classic), As Seen on Shark Tank. Funny Gift for Men, Husband, Dad, Son, Birthday, Christmas, Stocking Stuffer.\n",
      "Price: $14.99\n"
     ]
    }
   ],
   "source": [
    "soup = BeautifulSoup(requests.get('https://www.amazon.com/dp/B07CT6DYFG').content, 'html.parser')\n",
    "\n",
    "item_title = soup.find(id='productTitle').get_text(strip=True)\n",
    "item_price = soup.find(\"span\",{\"class\":\"a-price\"}).find(\"span\").get_text()\n",
    "\n",
    "print(f\"Title: {item_title}\")\n",
    "print(f\"Price: {item_price}\")"
   ]
  },
  {
   "cell_type": "markdown",
   "metadata": {},
   "source": [
    "3) Write code that loads the page https://www.usnews.com/ and prints to screen the title of the current #1 top story (i.e., the title of the first title in \"Top Stories\")\n",
    "\n",
    "You will need to set the user agent in question (3). I.e., your request line should now read \"requests.get('https://www.usnews.com/', headers={'User-Agent': 'Mozilla/5.0'})\""
   ]
  },
  {
   "cell_type": "code",
   "execution_count": 79,
   "metadata": {},
   "outputs": [
    {
     "name": "stdout",
     "output_type": "stream",
     "text": [
      "Defeated DeSantis Bows to Trump\n",
      "Top Story: Defeated DeSantis Bows to Trump\n"
     ]
    }
   ],
   "source": [
    "from bs4 import BeautifulSoup\n",
    "import requests\n",
    "\n",
    "# Fetching the webpage content\n",
    "response = requests.get('https://www.usnews.com/', headers={'User-Agent': 'Mozilla/5.0'})\n",
    "soup = BeautifulSoup(response.content, 'html.parser')\n",
    "\n",
    "# Directly navigate to the h3 element.\n",
    "# Found in p[Top News] next to div / div / div / div / h3\n",
    "h3_text = soup.find('p', string=\"Top Stories\") \\\n",
    "    .find_next_sibling('div') \\\n",
    "    .find('div') \\\n",
    "    .find('div') \\\n",
    "    .find('div') \\\n",
    "    .find('h3') \\\n",
    "    .get_text(strip=True)\n",
    "\n",
    "print(h3_text)\n",
    "print(f'Top Story: {h3_text}')"
   ]
  }
 ],
 "metadata": {
  "kernelspec": {
   "display_name": "Python 3",
   "language": "python",
   "name": "python3"
  },
  "language_info": {
   "codemirror_mode": {
    "name": "ipython",
    "version": 3
   },
   "file_extension": ".py",
   "mimetype": "text/x-python",
   "name": "python",
   "nbconvert_exporter": "python",
   "pygments_lexer": "ipython3",
   "version": "3.11.6"
  }
 },
 "nbformat": 4,
 "nbformat_minor": 2
}
